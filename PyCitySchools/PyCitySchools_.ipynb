{
 "cells": [
  {
   "attachments": {},
   "cell_type": "markdown",
   "metadata": {},
   "source": [
    "# PyCity Schools Analysis\n",
    "\n",
    "- Your analysis here\n",
    "\n",
    "---"
   ]
  },
  {
   "cell_type": "code",
   "execution_count": 1,
   "metadata": {},
   "outputs": [],
   "source": [
    "# Dependencies and Setup\n",
    "import pandas as pd\n",
    "from pathlib import Path\n",
    "\n",
    "# File to Load \n",
    "school_data_to_load = Path(\"Resources/schools_complete.csv\")\n",
    "student_data_to_load = Path(\"Resources/students_complete.csv\")\n",
    "\n"
   ]
  },
  {
   "cell_type": "code",
   "execution_count": 2,
   "metadata": {},
   "outputs": [
    {
     "data": {
      "text/html": [
       "<div>\n",
       "<style scoped>\n",
       "    .dataframe tbody tr th:only-of-type {\n",
       "        vertical-align: middle;\n",
       "    }\n",
       "\n",
       "    .dataframe tbody tr th {\n",
       "        vertical-align: top;\n",
       "    }\n",
       "\n",
       "    .dataframe thead th {\n",
       "        text-align: right;\n",
       "    }\n",
       "</style>\n",
       "<table border=\"1\" class=\"dataframe\">\n",
       "  <thead>\n",
       "    <tr style=\"text-align: right;\">\n",
       "      <th></th>\n",
       "      <th>Student ID</th>\n",
       "      <th>student_name</th>\n",
       "      <th>gender</th>\n",
       "      <th>grade</th>\n",
       "      <th>school_name</th>\n",
       "      <th>reading_score</th>\n",
       "      <th>math_score</th>\n",
       "      <th>School ID</th>\n",
       "      <th>type</th>\n",
       "      <th>size</th>\n",
       "      <th>budget</th>\n",
       "    </tr>\n",
       "  </thead>\n",
       "  <tbody>\n",
       "    <tr>\n",
       "      <th>0</th>\n",
       "      <td>0</td>\n",
       "      <td>Paul Bradley</td>\n",
       "      <td>M</td>\n",
       "      <td>9th</td>\n",
       "      <td>Huang High School</td>\n",
       "      <td>66</td>\n",
       "      <td>79</td>\n",
       "      <td>0</td>\n",
       "      <td>District</td>\n",
       "      <td>2917</td>\n",
       "      <td>1910635</td>\n",
       "    </tr>\n",
       "    <tr>\n",
       "      <th>1</th>\n",
       "      <td>1</td>\n",
       "      <td>Victor Smith</td>\n",
       "      <td>M</td>\n",
       "      <td>12th</td>\n",
       "      <td>Huang High School</td>\n",
       "      <td>94</td>\n",
       "      <td>61</td>\n",
       "      <td>0</td>\n",
       "      <td>District</td>\n",
       "      <td>2917</td>\n",
       "      <td>1910635</td>\n",
       "    </tr>\n",
       "    <tr>\n",
       "      <th>2</th>\n",
       "      <td>2</td>\n",
       "      <td>Kevin Rodriguez</td>\n",
       "      <td>M</td>\n",
       "      <td>12th</td>\n",
       "      <td>Huang High School</td>\n",
       "      <td>90</td>\n",
       "      <td>60</td>\n",
       "      <td>0</td>\n",
       "      <td>District</td>\n",
       "      <td>2917</td>\n",
       "      <td>1910635</td>\n",
       "    </tr>\n",
       "    <tr>\n",
       "      <th>3</th>\n",
       "      <td>3</td>\n",
       "      <td>Dr. Richard Scott</td>\n",
       "      <td>M</td>\n",
       "      <td>12th</td>\n",
       "      <td>Huang High School</td>\n",
       "      <td>67</td>\n",
       "      <td>58</td>\n",
       "      <td>0</td>\n",
       "      <td>District</td>\n",
       "      <td>2917</td>\n",
       "      <td>1910635</td>\n",
       "    </tr>\n",
       "    <tr>\n",
       "      <th>4</th>\n",
       "      <td>4</td>\n",
       "      <td>Bonnie Ray</td>\n",
       "      <td>F</td>\n",
       "      <td>9th</td>\n",
       "      <td>Huang High School</td>\n",
       "      <td>97</td>\n",
       "      <td>84</td>\n",
       "      <td>0</td>\n",
       "      <td>District</td>\n",
       "      <td>2917</td>\n",
       "      <td>1910635</td>\n",
       "    </tr>\n",
       "  </tbody>\n",
       "</table>\n",
       "</div>"
      ],
      "text/plain": [
       "   Student ID       student_name gender grade        school_name  \\\n",
       "0           0       Paul Bradley      M   9th  Huang High School   \n",
       "1           1       Victor Smith      M  12th  Huang High School   \n",
       "2           2    Kevin Rodriguez      M  12th  Huang High School   \n",
       "3           3  Dr. Richard Scott      M  12th  Huang High School   \n",
       "4           4         Bonnie Ray      F   9th  Huang High School   \n",
       "\n",
       "   reading_score  math_score  School ID      type  size   budget  \n",
       "0             66          79          0  District  2917  1910635  \n",
       "1             94          61          0  District  2917  1910635  \n",
       "2             90          60          0  District  2917  1910635  \n",
       "3             67          58          0  District  2917  1910635  \n",
       "4             97          84          0  District  2917  1910635  "
      ]
     },
     "execution_count": 2,
     "metadata": {},
     "output_type": "execute_result"
    }
   ],
   "source": [
    "# Read School and Student Data File and store into Pandas DataFrames\n",
    "school_data = pd.read_csv(school_data_to_load)\n",
    "student_data = pd.read_csv(student_data_to_load)\n",
    "\n",
    "# Combine the data into a single dataset.\n",
    "school_data_complete = pd.merge(student_data, school_data, how=\"left\", on=\"school_name\")\n",
    "school_data_complete.head()\n"
   ]
  },
  {
   "cell_type": "markdown",
   "metadata": {},
   "source": [
    "## District Summary"
   ]
  },
  {
   "cell_type": "code",
   "execution_count": 78,
   "metadata": {},
   "outputs": [
    {
     "name": "stdout",
     "output_type": "stream",
     "text": [
      "number or unique schools 15\n"
     ]
    }
   ],
   "source": [
    "# Calculate the total number of unique schools\n",
    "school_count = 0\n",
    "school_count = school_data_complete['school_name'].nunique()\n",
    "print (\"number or unique schools\", school_count)"
   ]
  },
  {
   "cell_type": "code",
   "execution_count": 79,
   "metadata": {},
   "outputs": [
    {
     "name": "stdout",
     "output_type": "stream",
     "text": [
      "Total students 39170\n"
     ]
    }
   ],
   "source": [
    "# Calculate the total number of students\n",
    "student_count = 0\n",
    "student_count = school_data_complete['student_name'].count()\n",
    "print (\"Total students\", student_count)"
   ]
  },
  {
   "cell_type": "code",
   "execution_count": 80,
   "metadata": {},
   "outputs": [
    {
     "name": "stdout",
     "output_type": "stream",
     "text": [
      "total budget 24649428\n"
     ]
    }
   ],
   "source": [
    "# Calculate the total budget\n",
    "total_budget = 0\n",
    "total_budget = school_data_complete['budget'].unique().sum()\n",
    "print (\"total budget\", total_budget)"
   ]
  },
  {
   "cell_type": "code",
   "execution_count": 81,
   "metadata": {},
   "outputs": [
    {
     "name": "stdout",
     "output_type": "stream",
     "text": [
      "average math score 78.98537145774827\n"
     ]
    }
   ],
   "source": [
    "# Calculate the average (mean) math score\n",
    "average_math_score = 0\n",
    "average_math_score = school_data_complete['math_score'].mean()\n",
    "print (\"average math score\", average_math_score)"
   ]
  },
  {
   "cell_type": "code",
   "execution_count": 82,
   "metadata": {},
   "outputs": [
    {
     "name": "stdout",
     "output_type": "stream",
     "text": [
      "average reading score 81.87784018381414\n"
     ]
    }
   ],
   "source": [
    "# Calculate the average (mean) reading score\n",
    "average_reading_score = 0\n",
    "average_reading_score = school_data_complete['reading_score'].mean()\n",
    "print (\"average reading score\", average_reading_score)\n"
   ]
  },
  {
   "cell_type": "code",
   "execution_count": 83,
   "metadata": {},
   "outputs": [
    {
     "name": "stdout",
     "output_type": "stream",
     "text": [
      "Percentage of students who pass math 74.9808526933878\n"
     ]
    }
   ],
   "source": [
    "# Use the following to calculate the percentage of students who passed math (math scores greather than or equal to 70)\n",
    "passing_math_count = school_data_complete[(school_data_complete[\"math_score\"] >= 70)].count()[\"student_name\"]\n",
    "passing_math_percentage = passing_math_count / float(student_count) * 100\n",
    "print (\"Percentage of students who pass math\", passing_math_percentage)\n"
   ]
  },
  {
   "cell_type": "code",
   "execution_count": 84,
   "metadata": {},
   "outputs": [
    {
     "name": "stdout",
     "output_type": "stream",
     "text": [
      "Percentage of students who pass reading 85.80546336482001\n"
     ]
    }
   ],
   "source": [
    "# Calculate the percentage of students who passed reading (hint: look at how the math percentage was calculated)\n",
    "passing_reading_count = school_data_complete[(school_data_complete[\"reading_score\"] >= 70)].count()[\"student_name\"]\n",
    "passing_reading_percentage = passing_reading_count / float(student_count) * 100\n",
    "print (\"Percentage of students who pass reading\", passing_reading_percentage)\n"
   ]
  },
  {
   "cell_type": "code",
   "execution_count": 133,
   "metadata": {},
   "outputs": [
    {
     "name": "stdout",
     "output_type": "stream",
     "text": [
      "perecentage of students that passed math and reading 65.17232575950983\n"
     ]
    }
   ],
   "source": [
    "# Use the following to calculate the percentage of students that passed math and reading\n",
    "passing_math_reading_count = school_data_complete[\n",
    "    (school_data_complete[\"math_score\"] >= 70) & (school_data_complete[\"reading_score\"] >= 70)\n",
    "].count()[\"student_name\"]\n",
    "overall_passing_rate = passing_math_reading_count /  float(student_count) * 100\n",
    "print (\"perecentage of students that passed math and reading\", overall_passing_rate)\n"
   ]
  },
  {
   "cell_type": "code",
   "execution_count": 134,
   "metadata": {},
   "outputs": [
    {
     "name": "stdout",
     "output_type": "stream",
     "text": [
      "  Total Schools Total Students    Total Budget Average Math Score  \\\n",
      "0            15         39,170  $24,649,428.00              78.99   \n",
      "\n",
      "  Average Reading Score % Passing Math % Passing Reading % Overall Passing  \n",
      "0                 81.88        $74.98%            85.81%            65.17%  \n"
     ]
    }
   ],
   "source": [
    "# Create a high-level snapshot of the district's key metrics in a DataFrame\n",
    "district_summary = pd.DataFrame({\n",
    "    \"Total Schools\": [school_count],\n",
    "    \"Total Students\": [student_count],\n",
    "    \"Total Budget\": [total_budget],\n",
    "    \"Average Math Score\": [average_math_score],\n",
    "    \"Average Reading Score\": [average_reading_score],\n",
    "    \"% Passing Math\": [passing_math_percentage],\n",
    "    \"% Passing Reading\": [passing_reading_percentage],\n",
    "    \"% Overall Passing\": [overall_passing_rate],\n",
    "})\n",
    "\n",
    "# Formatting\n",
    "district_summary[\"Total Schools\"] = district_summary[\"Total Schools\"].map(\"{:,}\".format)\n",
    "district_summary[\"Total Students\"] = district_summary[\"Total Students\"].map(\"{:,}\".format)\n",
    "district_summary[\"Total Budget\"] = district_summary[\"Total Budget\"].map(\"${:,.2f}\".format)\n",
    "district_summary[\"Average Math Score\"] = district_summary[\"Average Math Score\"].map(\"{:,.2f}\".format)\n",
    "district_summary[\"Average Reading Score\"] = district_summary[\"Average Reading Score\"].map(\"{:.2f}\".format)\n",
    "district_summary[\"% Passing Math\"] = district_summary[\"% Passing Math\"].map(\"${:.2f}%\".format)\n",
    "district_summary[\"% Passing Reading\"] = district_summary[\"% Passing Reading\"].map(\"{:.2f}%\".format)\n",
    "district_summary[\"% Overall Passing\"] = district_summary[\"% Overall Passing\"].map(\"{:.2f}%\".format)\n",
    "# Display the DataFrame\n",
    "print (district_summary)\n"
   ]
  },
  {
   "cell_type": "markdown",
   "metadata": {},
   "source": [
    "## School Summary"
   ]
  },
  {
   "cell_type": "code",
   "execution_count": 88,
   "metadata": {},
   "outputs": [
    {
     "name": "stdout",
     "output_type": "stream",
     "text": [
      "school_name\n",
      "Huang High School        District\n",
      "Figueroa High School     District\n",
      "Shelton High School       Charter\n",
      "Hernandez High School    District\n",
      "Griffin High School       Charter\n",
      "Wilson High School        Charter\n",
      "Cabrera High School       Charter\n",
      "Bailey High School       District\n",
      "Holden High School        Charter\n",
      "Pena High School          Charter\n",
      "Wright High School        Charter\n",
      "Rodriguez High School    District\n",
      "Johnson High School      District\n",
      "Ford High School         District\n",
      "Thomas High School        Charter\n",
      "Name: type, dtype: object\n"
     ]
    }
   ],
   "source": [
    "# Use the code provided to select the type per school from school_data\n",
    "school_type = school_data.set_index([\"school_name\"])[\"type\"]\n",
    "print (school_type)"
   ]
  },
  {
   "cell_type": "code",
   "execution_count": 89,
   "metadata": {},
   "outputs": [
    {
     "name": "stdout",
     "output_type": "stream",
     "text": [
      "school_name\n",
      "Huang High School        2917\n",
      "Figueroa High School     2949\n",
      "Shelton High School      1761\n",
      "Hernandez High School    4635\n",
      "Griffin High School      1468\n",
      "Wilson High School       2283\n",
      "Cabrera High School      1858\n",
      "Bailey High School       4976\n",
      "Holden High School        427\n",
      "Pena High School          962\n",
      "Wright High School       1800\n",
      "Rodriguez High School    3999\n",
      "Johnson High School      4761\n",
      "Ford High School         2739\n",
      "Thomas High School       1635\n",
      "Name: size, dtype: int64\n"
     ]
    }
   ],
   "source": [
    "# Calculate the total student count per school from school_data\n",
    "per_school_counts = 0\n",
    "per_school_counts = school_data.set_index([\"school_name\"])[\"size\"]\n",
    "print (per_school_counts)\n"
   ]
  },
  {
   "cell_type": "code",
   "execution_count": 90,
   "metadata": {},
   "outputs": [
    {
     "name": "stdout",
     "output_type": "stream",
     "text": [
      "school_name\n",
      "Huang High School        1910635\n",
      "Figueroa High School     1884411\n",
      "Shelton High School      1056600\n",
      "Hernandez High School    3022020\n",
      "Griffin High School       917500\n",
      "Wilson High School       1319574\n",
      "Cabrera High School      1081356\n",
      "Bailey High School       3124928\n",
      "Holden High School        248087\n",
      "Pena High School          585858\n",
      "Wright High School       1049400\n",
      "Rodriguez High School    2547363\n",
      "Johnson High School      3094650\n",
      "Ford High School         1763916\n",
      "Thomas High School       1043130\n",
      "Name: budget, dtype: int64\n"
     ]
    }
   ],
   "source": [
    "# Calculate the total school budget and per capita spending per school from school_data\n",
    "per_school_budget = 0\n",
    "per_school_budget = school_data.set_index([\"school_name\"])[\"budget\"]\n",
    "print (per_school_budget)\n"
   ]
  },
  {
   "cell_type": "code",
   "execution_count": 91,
   "metadata": {},
   "outputs": [
    {
     "name": "stdout",
     "output_type": "stream",
     "text": [
      "school_name\n",
      "Huang High School        655.0\n",
      "Figueroa High School     639.0\n",
      "Shelton High School      600.0\n",
      "Hernandez High School    652.0\n",
      "Griffin High School      625.0\n",
      "Wilson High School       578.0\n",
      "Cabrera High School      582.0\n",
      "Bailey High School       628.0\n",
      "Holden High School       581.0\n",
      "Pena High School         609.0\n",
      "Wright High School       583.0\n",
      "Rodriguez High School    637.0\n",
      "Johnson High School      650.0\n",
      "Ford High School         644.0\n",
      "Thomas High School       638.0\n",
      "dtype: float64\n"
     ]
    }
   ],
   "source": [
    "# Calculate the total school budget per student from school_data\n",
    "per_school_student_budget = 0\n",
    "per_school_student_budget = school_data.set_index([\"school_name\"])[\"budget\"] / school_data.set_index([\"school_name\"])[\"size\"]\n",
    "print (per_school_student_budget)"
   ]
  },
  {
   "cell_type": "code",
   "execution_count": 92,
   "metadata": {},
   "outputs": [
    {
     "name": "stdout",
     "output_type": "stream",
     "text": [
      "Averega Math Score school_name\n",
      "Bailey High School       77.048432\n",
      "Cabrera High School      83.061895\n",
      "Figueroa High School     76.711767\n",
      "Ford High School         77.102592\n",
      "Griffin High School      83.351499\n",
      "Hernandez High School    77.289752\n",
      "Holden High School       83.803279\n",
      "Huang High School        76.629414\n",
      "Johnson High School      77.072464\n",
      "Pena High School         83.839917\n",
      "Rodriguez High School    76.842711\n",
      "Shelton High School      83.359455\n",
      "Thomas High School       83.418349\n",
      "Wilson High School       83.274201\n",
      "Wright High School       83.682222\n",
      "Name: math_score, dtype: float64\n",
      "Average Reading Score school_name\n",
      "Bailey High School       81.033963\n",
      "Cabrera High School      83.975780\n",
      "Figueroa High School     81.158020\n",
      "Ford High School         80.746258\n",
      "Griffin High School      83.816757\n",
      "Hernandez High School    80.934412\n",
      "Holden High School       83.814988\n",
      "Huang High School        81.182722\n",
      "Johnson High School      80.966394\n",
      "Pena High School         84.044699\n",
      "Rodriguez High School    80.744686\n",
      "Shelton High School      83.725724\n",
      "Thomas High School       83.848930\n",
      "Wilson High School       83.989488\n",
      "Wright High School       83.955000\n",
      "Name: reading_score, dtype: float64\n"
     ]
    }
   ],
   "source": [
    "# Calculate the average test scores per school from school_data_complete\n",
    "per_school_math = 0\n",
    "per_school_math = school_data_complete.groupby([\"school_name\"])[\"math_score\"].mean() \n",
    "\n",
    "per_school_reading = 0\n",
    "per_school_reading = school_data_complete.groupby([\"school_name\"])[\"reading_score\"].mean()\n",
    "\n",
    "print(\"Averega Math Score\", per_school_math)\n",
    "print(\"Average Reading Score\", per_school_reading)\n"
   ]
  },
  {
   "cell_type": "code",
   "execution_count": 93,
   "metadata": {},
   "outputs": [
    {
     "name": "stdout",
     "output_type": "stream",
     "text": [
      "Number of Students per School Passing Math school_name\n",
      "Bailey High School       3318\n",
      "Cabrera High School      1749\n",
      "Figueroa High School     1946\n",
      "Ford High School         1871\n",
      "Griffin High School      1371\n",
      "Hernandez High School    3094\n",
      "Holden High School        395\n",
      "Huang High School        1916\n",
      "Johnson High School      3145\n",
      "Pena High School          910\n",
      "Rodriguez High School    2654\n",
      "Shelton High School      1653\n",
      "Thomas High School       1525\n",
      "Wilson High School       2143\n",
      "Wright High School       1680\n",
      "dtype: int64\n"
     ]
    }
   ],
   "source": [
    "# Calculate the number of students per school with math scores of 70 or higher from school_data_complete\n",
    "passing_math = 0\n",
    "passing_math = school_data_complete[school_data_complete[\"math_score\"] >= 70]\n",
    "students_passing_math = passing_math.groupby(\"school_name\").size()\n",
    "print (\"Number of Students per School Passing Math\", students_passing_math)"
   ]
  },
  {
   "cell_type": "code",
   "execution_count": 121,
   "metadata": {},
   "outputs": [
    {
     "name": "stdout",
     "output_type": "stream",
     "text": [
      "Number of Students per School Passing Reading school_name\n",
      "Bailey High School       4077\n",
      "Cabrera High School      1803\n",
      "Figueroa High School     2381\n",
      "Ford High School         2172\n",
      "Griffin High School      1426\n",
      "Hernandez High School    3748\n",
      "Holden High School        411\n",
      "Huang High School        2372\n",
      "Johnson High School      3867\n",
      "Pena High School          923\n",
      "Rodriguez High School    3208\n",
      "Shelton High School      1688\n",
      "Thomas High School       1591\n",
      "Wilson High School       2204\n",
      "Wright High School       1739\n",
      "dtype: int64\n"
     ]
    }
   ],
   "source": [
    "# Calculate the number of students per school with reading scores of 70 or higher from school_data_complete\n",
    "students_passing_reading = 0\n",
    "passing_reading = school_data_complete[school_data_complete[\"reading_score\"] >= 70]\n",
    "students_passing_reading = passing_reading.groupby(\"school_name\").size()\n",
    "print (\"Number of Students per School Passing Reading\", students_passing_reading)\n"
   ]
  },
  {
   "cell_type": "code",
   "execution_count": 95,
   "metadata": {},
   "outputs": [
    {
     "name": "stdout",
     "output_type": "stream",
     "text": [
      "number of students per school that passed both math and reading school_name\n",
      "Bailey High School       2719\n",
      "Cabrera High School      1697\n",
      "Figueroa High School     1569\n",
      "Ford High School         1487\n",
      "Griffin High School      1330\n",
      "Hernandez High School    2481\n",
      "Holden High School        381\n",
      "Huang High School        1561\n",
      "Johnson High School      2549\n",
      "Pena High School          871\n",
      "Rodriguez High School    2119\n",
      "Shelton High School      1583\n",
      "Thomas High School       1487\n",
      "Wilson High School       2068\n",
      "Wright High School       1626\n",
      "dtype: int64\n"
     ]
    }
   ],
   "source": [
    "# Use the provided code to calculate the number of students per school that passed both math and reading with scores of 70 or higher\n",
    "students_passing_math_and_reading = school_data_complete[\n",
    "    (school_data_complete[\"reading_score\"] >= 70) & (school_data_complete[\"math_score\"] >= 70)\n",
    "]\n",
    "school_students_passing_math_and_reading = students_passing_math_and_reading.groupby([\"school_name\"]).size()\n",
    "print (\"number of students per school that passed both math and reading\", school_students_passing_math_and_reading)"
   ]
  },
  {
   "cell_type": "code",
   "execution_count": 97,
   "metadata": {},
   "outputs": [
    {
     "name": "stdout",
     "output_type": "stream",
     "text": [
      "School passing rate school_name\n",
      "Bailey High School       54.642283\n",
      "Cabrera High School      91.334769\n",
      "Figueroa High School     53.204476\n",
      "Ford High School         54.289887\n",
      "Griffin High School      90.599455\n",
      "Hernandez High School    53.527508\n",
      "Holden High School       89.227166\n",
      "Huang High School        53.513884\n",
      "Johnson High School      53.539172\n",
      "Pena High School         90.540541\n",
      "Rodriguez High School    52.988247\n",
      "Shelton High School      89.892107\n",
      "Thomas High School       90.948012\n",
      "Wilson High School       90.582567\n",
      "Wright High School       90.333333\n",
      "dtype: float64\n"
     ]
    }
   ],
   "source": [
    "# Use the provided code to calculate the passing rates\n",
    "per_school_passing_math = students_passing_math / per_school_counts * 100\n",
    "per_school_passing_reading = students_passing_reading / per_school_counts * 100\n",
    "overall_passing_rate = school_students_passing_math_and_reading / per_school_counts * 100\n",
    "print (\"School passing rate\", overall_passing_rate)\n"
   ]
  },
  {
   "cell_type": "code",
   "execution_count": null,
   "metadata": {},
   "outputs": [
    {
     "name": "stdout",
     "output_type": "stream",
     "text": [
      "                      School Type Total Students Total School Budget  \\\n",
      "school_name                                                            \n",
      "Bailey High School       District          4,976       $3,124,928.00   \n",
      "Cabrera High School       Charter          1,858       $1,081,356.00   \n",
      "Figueroa High School     District          2,949       $1,884,411.00   \n",
      "Ford High School         District          2,739       $1,763,916.00   \n",
      "Griffin High School       Charter          1,468         $917,500.00   \n",
      "Hernandez High School    District          4,635       $3,022,020.00   \n",
      "Holden High School        Charter            427         $248,087.00   \n",
      "Huang High School        District          2,917       $1,910,635.00   \n",
      "Johnson High School      District          4,761       $3,094,650.00   \n",
      "Pena High School          Charter            962         $585,858.00   \n",
      "Rodriguez High School    District          3,999       $2,547,363.00   \n",
      "Shelton High School       Charter          1,761       $1,056,600.00   \n",
      "Thomas High School        Charter          1,635       $1,043,130.00   \n",
      "Wilson High School        Charter          2,283       $1,319,574.00   \n",
      "Wright High School        Charter          1,800       $1,049,400.00   \n",
      "\n",
      "                      Per Student Budget Average Math Score  \\\n",
      "school_name                                                   \n",
      "Bailey High School               $628.00              77.05   \n",
      "Cabrera High School              $582.00              83.06   \n",
      "Figueroa High School             $639.00              76.71   \n",
      "Ford High School                 $644.00              77.10   \n",
      "Griffin High School              $625.00              83.35   \n",
      "Hernandez High School            $652.00              77.29   \n",
      "Holden High School               $581.00              83.80   \n",
      "Huang High School                $655.00              76.63   \n",
      "Johnson High School              $650.00              77.07   \n",
      "Pena High School                 $609.00              83.84   \n",
      "Rodriguez High School            $637.00              76.84   \n",
      "Shelton High School              $600.00              83.36   \n",
      "Thomas High School               $638.00              83.42   \n",
      "Wilson High School               $578.00              83.27   \n",
      "Wright High School               $583.00              83.68   \n",
      "\n",
      "                      Average Reading Score % Passing Math % Passing Reading  \\\n",
      "school_name                                                                    \n",
      "Bailey High School                    81.03         66.68%            81.93%   \n",
      "Cabrera High School                   83.98         94.13%            97.04%   \n",
      "Figueroa High School                  81.16         65.99%            80.74%   \n",
      "Ford High School                      80.75         68.31%            79.30%   \n",
      "Griffin High School                   83.82         93.39%            97.14%   \n",
      "Hernandez High School                 80.93         66.75%            80.86%   \n",
      "Holden High School                    83.81         92.51%            96.25%   \n",
      "Huang High School                     81.18         65.68%            81.32%   \n",
      "Johnson High School                   80.97         66.06%            81.22%   \n",
      "Pena High School                      84.04         94.59%            95.95%   \n",
      "Rodriguez High School                 80.74         66.37%            80.22%   \n",
      "Shelton High School                   83.73         93.87%            95.85%   \n",
      "Thomas High School                    83.85         93.27%            97.31%   \n",
      "Wilson High School                    83.99         93.87%            96.54%   \n",
      "Wright High School                    83.95         93.33%            96.61%   \n",
      "\n",
      "                      % Overall Passing  \n",
      "school_name                              \n",
      "Bailey High School               54.64%  \n",
      "Cabrera High School              91.33%  \n",
      "Figueroa High School             53.20%  \n",
      "Ford High School                 54.29%  \n",
      "Griffin High School              90.60%  \n",
      "Hernandez High School            53.53%  \n",
      "Holden High School               89.23%  \n",
      "Huang High School                53.51%  \n",
      "Johnson High School              53.54%  \n",
      "Pena High School                 90.54%  \n",
      "Rodriguez High School            52.99%  \n",
      "Shelton High School              89.89%  \n",
      "Thomas High School               90.95%  \n",
      "Wilson High School               90.58%  \n",
      "Wright High School               90.33%  \n"
     ]
    }
   ],
   "source": [
    "# Create a DataFrame called `per_school_summary` with columns for the calculations above.\n",
    "per_school_summary = pd.DataFrame({\n",
    "  \"School Type\": school_type,\n",
    "  \"Total Students\": per_school_counts,\n",
    "  \"Total School Budget\": per_school_budget,\n",
    "  \"Per Student Budget\":per_school_student_budget,\n",
    "  \"Average Math Score\": per_school_math,\n",
    "  \"Average Reading Score\": per_school_reading,\n",
    "  \"% Passing Math\": per_school_passing_math,\n",
    "  \"% Passing Reading\":per_school_passing_reading,\n",
    "  \"% Overall Passing\": overall_passing_rate,\n",
    "})\n",
    "\n",
    "\n",
    "# Formatting\n",
    "per_school_summary[\"Total Students\"] = per_school_summary[\"Total Students\"].map(\"{:,}\".format)\n",
    "per_school_summary[\"Total School Budget\"] = per_school_summary[\"Total School Budget\"].map(\"${:,.2f}\".format)\n",
    "per_school_summary[\"Per Student Budget\"] = per_school_summary[\"Per Student Budget\"].map(\"${:,.2f}\".format)\n",
    "per_school_summary[\"Average Math Score\"] = per_school_summary[\"Average Math Score\"].map(\"{:,.2f}\".format)\n",
    "per_school_summary[\"Average Reading Score\"] = per_school_summary[\"Average Reading Score\"].map(\"{:,.2f}\".format)\n",
    "per_school_summary[\"% Passing Math\"] = per_school_summary[\"% Passing Math\"].map(\"{:,.2f}%\".format)\n",
    "per_school_summary[\"% Passing Reading\"] = per_school_summary[\"% Passing Reading\"].map(\"{:,.2f}%\".format)\n",
    "per_school_summary[\"% Overall Passing\"] = per_school_summary[\"% Overall Passing\"].map(\"{:,.2f}%\".format)\n",
    "\n",
    "# Display the DataFrame\n",
    "print (per_school_summary)\n"
   ]
  },
  {
   "cell_type": "markdown",
   "metadata": {},
   "source": [
    "## Highest-Performing Schools (by % Overall Passing)"
   ]
  },
  {
   "cell_type": "code",
   "execution_count": 125,
   "metadata": {
    "scrolled": true
   },
   "outputs": [
    {
     "name": "stdout",
     "output_type": "stream",
     "text": [
      "                    School Type Total Students Total School Budget  \\\n",
      "school_name                                                          \n",
      "Cabrera High School     Charter          1,858       $1,081,356.00   \n",
      "Thomas High School      Charter          1,635       $1,043,130.00   \n",
      "Griffin High School     Charter          1,468         $917,500.00   \n",
      "Wilson High School      Charter          2,283       $1,319,574.00   \n",
      "Pena High School        Charter            962         $585,858.00   \n",
      "\n",
      "                    Per Student Budget Average Math Score  \\\n",
      "school_name                                                 \n",
      "Cabrera High School            $582.00              83.06   \n",
      "Thomas High School             $638.00              83.42   \n",
      "Griffin High School            $625.00              83.35   \n",
      "Wilson High School             $578.00              83.27   \n",
      "Pena High School               $609.00              83.84   \n",
      "\n",
      "                    Average Reading Score % Passing Math % Passing Reading  \\\n",
      "school_name                                                                  \n",
      "Cabrera High School                 83.98         94.13%            97.04%   \n",
      "Thomas High School                  83.85         93.27%            97.31%   \n",
      "Griffin High School                 83.82         93.39%            97.14%   \n",
      "Wilson High School                  83.99         93.87%            96.54%   \n",
      "Pena High School                    84.04         94.59%            95.95%   \n",
      "\n",
      "                    % Overall Passing  \n",
      "school_name                            \n",
      "Cabrera High School            91.33%  \n",
      "Thomas High School             90.95%  \n",
      "Griffin High School            90.60%  \n",
      "Wilson High School             90.58%  \n",
      "Pena High School               90.54%  \n"
     ]
    }
   ],
   "source": [
    "# Sort the schools by `% Overall Passing` in descending order and display the top 5 rows.\n",
    "top_schools = school_type\n",
    "sorted_schools = per_school_summary.sort_values(by=\"% Overall Passing\", ascending = False)\n",
    "top_schools = sorted_schools\n",
    "print (top_schools.head(5))\n"
   ]
  },
  {
   "cell_type": "markdown",
   "metadata": {},
   "source": [
    "## Bottom Performing Schools (By % Overall Passing)"
   ]
  },
  {
   "cell_type": "code",
   "execution_count": 126,
   "metadata": {},
   "outputs": [
    {
     "name": "stdout",
     "output_type": "stream",
     "text": [
      "                      School Type Total Students Total School Budget  \\\n",
      "school_name                                                            \n",
      "Rodriguez High School    District          3,999       $2,547,363.00   \n",
      "Figueroa High School     District          2,949       $1,884,411.00   \n",
      "Huang High School        District          2,917       $1,910,635.00   \n",
      "Hernandez High School    District          4,635       $3,022,020.00   \n",
      "Johnson High School      District          4,761       $3,094,650.00   \n",
      "\n",
      "                      Per Student Budget Average Math Score  \\\n",
      "school_name                                                   \n",
      "Rodriguez High School            $637.00              76.84   \n",
      "Figueroa High School             $639.00              76.71   \n",
      "Huang High School                $655.00              76.63   \n",
      "Hernandez High School            $652.00              77.29   \n",
      "Johnson High School              $650.00              77.07   \n",
      "\n",
      "                      Average Reading Score % Passing Math % Passing Reading  \\\n",
      "school_name                                                                    \n",
      "Rodriguez High School                 80.74         66.37%            80.22%   \n",
      "Figueroa High School                  81.16         65.99%            80.74%   \n",
      "Huang High School                     81.18         65.68%            81.32%   \n",
      "Hernandez High School                 80.93         66.75%            80.86%   \n",
      "Johnson High School                   80.97         66.06%            81.22%   \n",
      "\n",
      "                      % Overall Passing  \n",
      "school_name                              \n",
      "Rodriguez High School            52.99%  \n",
      "Figueroa High School             53.20%  \n",
      "Huang High School                53.51%  \n",
      "Hernandez High School            53.53%  \n",
      "Johnson High School              53.54%  \n"
     ]
    }
   ],
   "source": [
    "# Sort the schools by `% Overall Passing` in ascending order and display the top 5 rows.\n",
    "bottom_schools = school_type\n",
    "sorted_schools = per_school_summary.sort_values(by=\"% Overall Passing\", ascending = True)\n",
    "bottom_schools = sorted_schools\n",
    "print (bottom_schools.head(5))\n",
    "\n"
   ]
  },
  {
   "cell_type": "markdown",
   "metadata": {},
   "source": [
    "## Math Scores by Grade"
   ]
  },
  {
   "cell_type": "code",
   "execution_count": 127,
   "metadata": {},
   "outputs": [
    {
     "name": "stdout",
     "output_type": "stream",
     "text": [
      "                             9th       10th       11th       12th\n",
      "School Name                                                      \n",
      "Bailey High School     77.083676  76.996772  77.515588  76.492218\n",
      "Cabrera High School    83.094697  83.154506  82.765560  83.277487\n",
      "Figueroa High School   76.403037  76.539974  76.884344  77.151369\n",
      "Ford High School       77.361345  77.672316  76.918058  76.179963\n",
      "Griffin High School    82.044010  84.229064  83.842105  83.356164\n",
      "Hernandez High School  77.438495  77.337408  77.136029  77.186567\n",
      "Holden High School     83.787402  83.429825  85.000000  82.855422\n",
      "Huang High School      77.027251  75.908735  76.446602  77.225641\n",
      "Johnson High School    77.187857  76.691117  77.491653  76.863248\n",
      "Pena High School       83.625455  83.372000  84.328125  84.121547\n",
      "Rodriguez High School  76.859966  76.612500  76.395626  77.690748\n",
      "Shelton High School    83.420755  82.917411  83.383495  83.778976\n",
      "Thomas High School     83.590022  83.087886  83.498795  83.497041\n",
      "Wilson High School     83.085578  83.724422  83.195326  83.035794\n",
      "Wright High School     83.264706  84.010288  83.836782  83.644986\n"
     ]
    }
   ],
   "source": [
    "# Use the code provided to separate the data by grade\n",
    "ninth_graders = school_data_complete[(school_data_complete[\"grade\"] == \"9th\")]\n",
    "tenth_graders = school_data_complete[(school_data_complete[\"grade\"] == \"10th\")]\n",
    "eleventh_graders = school_data_complete[(school_data_complete[\"grade\"] == \"11th\")]\n",
    "twelfth_graders = school_data_complete[(school_data_complete[\"grade\"] == \"12th\")]\n",
    "\n",
    "# Group by `school_name` and take the mean of the `math_score` column for each.\n",
    "ninth_grade_math_scores = ninth_graders.groupby(\"school_name\")[\"math_score\"].mean()\n",
    "tenth_grader_math_scores = tenth_graders.groupby(\"school_name\")[\"math_score\"].mean()\n",
    "eleventh_grader_math_scores = eleventh_graders.groupby(\"school_name\")[\"math_score\"].mean()\n",
    "twelfth_grader_math_scores = twelfth_graders.groupby(\"school_name\")[\"math_score\"].mean()\n",
    "\n",
    "# Combine each of the scores above into single DataFrame called `math_scores_by_grade`\n",
    "math_scores_by_grade = pd.DataFrame ({\n",
    "    \"9th\": ninth_grade_math_scores,\n",
    "    \"10th\": tenth_grader_math_scores,\n",
    "    \"11th\": eleventh_grader_math_scores,\n",
    "    \"12th\": twelfth_grader_math_scores,\n",
    "})\n",
    "\n",
    "# Minor data wrangling\n",
    "math_scores_by_grade.index.name = \"School Name\"\n",
    "\n",
    "# Display the DataFrame\n",
    "print (math_scores_by_grade)\n"
   ]
  },
  {
   "cell_type": "markdown",
   "metadata": {},
   "source": [
    "## Reading Score by Grade "
   ]
  },
  {
   "cell_type": "code",
   "execution_count": 128,
   "metadata": {},
   "outputs": [
    {
     "name": "stdout",
     "output_type": "stream",
     "text": [
      "                             9th       10th       11th       12th\n",
      "School_Name                                                      \n",
      "Bailey High School     81.303155  80.907183  80.945643  80.912451\n",
      "Cabrera High School    83.676136  84.253219  83.788382  84.287958\n",
      "Figueroa High School   81.198598  81.408912  80.640339  81.384863\n",
      "Ford High School       80.632653  81.262712  80.403642  80.662338\n",
      "Griffin High School    83.369193  83.706897  84.288089  84.013699\n",
      "Hernandez High School  80.866860  80.660147  81.396140  80.857143\n",
      "Holden High School     83.677165  83.324561  83.815534  84.698795\n",
      "Huang High School      81.290284  81.512386  81.417476  80.305983\n",
      "Johnson High School    81.260714  80.773431  80.616027  81.227564\n",
      "Pena High School       83.807273  83.612000  84.335938  84.591160\n",
      "Rodriguez High School  80.993127  80.629808  80.864811  80.376426\n",
      "Shelton High School    84.122642  83.441964  84.373786  82.781671\n",
      "Thomas High School     83.728850  84.254157  83.585542  83.831361\n",
      "Wilson High School     83.939778  84.021452  83.764608  84.317673\n",
      "Wright High School     83.833333  83.812757  84.156322  84.073171\n"
     ]
    }
   ],
   "source": [
    "# Use the code provided to separate the data by grade\n",
    "ninth_graders = school_data_complete[(school_data_complete[\"grade\"] == \"9th\")]\n",
    "tenth_graders = school_data_complete[(school_data_complete[\"grade\"] == \"10th\")]\n",
    "eleventh_graders = school_data_complete[(school_data_complete[\"grade\"] == \"11th\")]\n",
    "twelfth_graders = school_data_complete[(school_data_complete[\"grade\"] == \"12th\")]\n",
    "\n",
    "# Group by `school_name` and take the mean of the the `reading_score` column for each.\n",
    "ninth_grade_reading_scores = ninth_graders.groupby(\"school_name\")[\"reading_score\"].mean()\n",
    "tenth_grader_reading_scores = tenth_graders.groupby(\"school_name\")[\"reading_score\"].mean()\n",
    "eleventh_grader_reading_scores = eleventh_graders.groupby(\"school_name\")[\"reading_score\"].mean()\n",
    "twelfth_grader_reading_scores = twelfth_graders.groupby(\"school_name\")[\"reading_score\"].mean()\n",
    "\n",
    "# Combine each of the scores above into single DataFrame called `reading_scores_by_grade`\n",
    "reading_scores_by_grade = pd.DataFrame ({\n",
    "    \"9th\": ninth_grade_reading_scores,\n",
    "    \"10th\": tenth_grader_reading_scores,\n",
    "    \"11th\": eleventh_grader_reading_scores,\n",
    "    \"12th\": twelfth_grader_reading_scores,\n",
    "})\n",
    "\n",
    "# Minor data wrangling\n",
    "\n",
    "reading_scores_by_grade.index.name = \"School_Name\"\n",
    "\n",
    "# Display the DataFrame\n",
    "print (reading_scores_by_grade)\n"
   ]
  },
  {
   "cell_type": "markdown",
   "metadata": {},
   "source": [
    "## Scores by School Spending"
   ]
  },
  {
   "cell_type": "code",
   "execution_count": 353,
   "metadata": {},
   "outputs": [],
   "source": [
    "# Establish the bins\n",
    "spending_bins = [0, 585, 630, 645, 680]\n",
    "labels = [\"<$585\", \"$585-630\", \"$630-645\", \"$645-680\"]"
   ]
  },
  {
   "cell_type": "code",
   "execution_count": 354,
   "metadata": {},
   "outputs": [],
   "source": [
    "# Create a copy of the school summary for later aggregations\n",
    "school_spending_df = per_school_summary.copy()\n"
   ]
  },
  {
   "cell_type": "code",
   "execution_count": 355,
   "metadata": {},
   "outputs": [],
   "source": [
    "school_spending_df[\"Per Student Budget\"] = school_spending_df[\"Per Student Budget\"].replace(r'[\\$,]', '', regex=True).astype(float)\n"
   ]
  },
  {
   "cell_type": "code",
   "execution_count": 357,
   "metadata": {},
   "outputs": [
    {
     "name": "stdout",
     "output_type": "stream",
     "text": [
      "                      School Type Total Students Total School Budget  \\\n",
      "school_name                                                            \n",
      "Bailey High School       District          4,976       $3,124,928.00   \n",
      "Cabrera High School       Charter          1,858       $1,081,356.00   \n",
      "Figueroa High School     District          2,949       $1,884,411.00   \n",
      "Ford High School         District          2,739       $1,763,916.00   \n",
      "Griffin High School       Charter          1,468         $917,500.00   \n",
      "Hernandez High School    District          4,635       $3,022,020.00   \n",
      "Holden High School        Charter            427         $248,087.00   \n",
      "Huang High School        District          2,917       $1,910,635.00   \n",
      "Johnson High School      District          4,761       $3,094,650.00   \n",
      "Pena High School          Charter            962         $585,858.00   \n",
      "Rodriguez High School    District          3,999       $2,547,363.00   \n",
      "Shelton High School       Charter          1,761       $1,056,600.00   \n",
      "Thomas High School        Charter          1,635       $1,043,130.00   \n",
      "Wilson High School        Charter          2,283       $1,319,574.00   \n",
      "Wright High School        Charter          1,800       $1,049,400.00   \n",
      "\n",
      "                       Per Student Budget Average Math Score  \\\n",
      "school_name                                                    \n",
      "Bailey High School                  628.0              77.05   \n",
      "Cabrera High School                 582.0              83.06   \n",
      "Figueroa High School                639.0              76.71   \n",
      "Ford High School                    644.0              77.10   \n",
      "Griffin High School                 625.0              83.35   \n",
      "Hernandez High School               652.0              77.29   \n",
      "Holden High School                  581.0              83.80   \n",
      "Huang High School                   655.0              76.63   \n",
      "Johnson High School                 650.0              77.07   \n",
      "Pena High School                    609.0              83.84   \n",
      "Rodriguez High School               637.0              76.84   \n",
      "Shelton High School                 600.0              83.36   \n",
      "Thomas High School                  638.0              83.42   \n",
      "Wilson High School                  578.0              83.27   \n",
      "Wright High School                  583.0              83.68   \n",
      "\n",
      "                      Average Reading Score % Passing Math % Passing Reading  \\\n",
      "school_name                                                                    \n",
      "Bailey High School                    81.03         66.68%            81.93%   \n",
      "Cabrera High School                   83.98         94.13%            97.04%   \n",
      "Figueroa High School                  81.16         65.99%            80.74%   \n",
      "Ford High School                      80.75         68.31%            79.30%   \n",
      "Griffin High School                   83.82         93.39%            97.14%   \n",
      "Hernandez High School                 80.93         66.75%            80.86%   \n",
      "Holden High School                    83.81         92.51%            96.25%   \n",
      "Huang High School                     81.18         65.68%            81.32%   \n",
      "Johnson High School                   80.97         66.06%            81.22%   \n",
      "Pena High School                      84.04         94.59%            95.95%   \n",
      "Rodriguez High School                 80.74         66.37%            80.22%   \n",
      "Shelton High School                   83.73         93.87%            95.85%   \n",
      "Thomas High School                    83.85         93.27%            97.31%   \n",
      "Wilson High School                    83.99         93.87%            96.54%   \n",
      "Wright High School                    83.95         93.33%            96.61%   \n",
      "\n",
      "                      % Overall Passing Spending Ranges(Per Student)  \n",
      "school_name                                                           \n",
      "Bailey High School               54.64%                     $585-630  \n",
      "Cabrera High School              91.33%                        <$585  \n",
      "Figueroa High School             53.20%                     $630-645  \n",
      "Ford High School                 54.29%                     $630-645  \n",
      "Griffin High School              90.60%                     $585-630  \n",
      "Hernandez High School            53.53%                     $645-680  \n",
      "Holden High School               89.23%                        <$585  \n",
      "Huang High School                53.51%                     $645-680  \n",
      "Johnson High School              53.54%                     $645-680  \n",
      "Pena High School                 90.54%                     $585-630  \n",
      "Rodriguez High School            52.99%                     $630-645  \n",
      "Shelton High School              89.89%                     $585-630  \n",
      "Thomas High School               90.95%                     $630-645  \n",
      "Wilson High School               90.58%                        <$585  \n",
      "Wright High School               90.33%                        <$585  \n"
     ]
    }
   ],
   "source": [
    "\n",
    "# Use `pd.cut` on the per_school_capita Series from earlier to categorize per student spending based on the bins.\n",
    "\n",
    "school_spending_df [\"Spending Ranges(Per Student)\"] = pd.cut(\n",
    "    school_spending_df[\"Per Student Budget\"],\n",
    "    bins=spending_bins,\n",
    "    labels=labels\n",
    "    )\n",
    "\n",
    "\n",
    "print (school_spending_df)\n"
   ]
  },
  {
   "cell_type": "markdown",
   "metadata": {},
   "source": [
    "## Scores by School Size"
   ]
  },
  {
   "cell_type": "code",
   "execution_count": 397,
   "metadata": {},
   "outputs": [],
   "source": [
    "# Establish the bins.\n",
    "size_bins = [0, 1000, 2000, 5000]\n",
    "labels = [\"Small (<1000)\", \"Medium (1000-2000)\", \"Large (2000-5000)\"]\n"
   ]
  },
  {
   "cell_type": "code",
   "execution_count": 398,
   "metadata": {},
   "outputs": [],
   "source": [
    "# Create a copy of the school summary for later aggregations\n",
    "school_size_df = per_school_summary.copy()\n"
   ]
  },
  {
   "cell_type": "code",
   "execution_count": 399,
   "metadata": {},
   "outputs": [
    {
     "name": "stdout",
     "output_type": "stream",
     "text": [
      "                      School Type Total Students Total School Budget  \\\n",
      "school_name                                                            \n",
      "Bailey High School       District          4,976       $3,124,928.00   \n",
      "Cabrera High School       Charter          1,858       $1,081,356.00   \n",
      "Figueroa High School     District          2,949       $1,884,411.00   \n",
      "Ford High School         District          2,739       $1,763,916.00   \n",
      "Griffin High School       Charter          1,468         $917,500.00   \n",
      "Hernandez High School    District          4,635       $3,022,020.00   \n",
      "Holden High School        Charter            427         $248,087.00   \n",
      "Huang High School        District          2,917       $1,910,635.00   \n",
      "Johnson High School      District          4,761       $3,094,650.00   \n",
      "Pena High School          Charter            962         $585,858.00   \n",
      "Rodriguez High School    District          3,999       $2,547,363.00   \n",
      "Shelton High School       Charter          1,761       $1,056,600.00   \n",
      "Thomas High School        Charter          1,635       $1,043,130.00   \n",
      "Wilson High School        Charter          2,283       $1,319,574.00   \n",
      "Wright High School        Charter          1,800       $1,049,400.00   \n",
      "\n",
      "                      Per Student Budget Average Math Score  \\\n",
      "school_name                                                   \n",
      "Bailey High School               $628.00              77.05   \n",
      "Cabrera High School              $582.00              83.06   \n",
      "Figueroa High School             $639.00              76.71   \n",
      "Ford High School                 $644.00              77.10   \n",
      "Griffin High School              $625.00              83.35   \n",
      "Hernandez High School            $652.00              77.29   \n",
      "Holden High School               $581.00              83.80   \n",
      "Huang High School                $655.00              76.63   \n",
      "Johnson High School              $650.00              77.07   \n",
      "Pena High School                 $609.00              83.84   \n",
      "Rodriguez High School            $637.00              76.84   \n",
      "Shelton High School              $600.00              83.36   \n",
      "Thomas High School               $638.00              83.42   \n",
      "Wilson High School               $578.00              83.27   \n",
      "Wright High School               $583.00              83.68   \n",
      "\n",
      "                      Average Reading Score % Passing Math % Passing Reading  \\\n",
      "school_name                                                                    \n",
      "Bailey High School                    81.03         66.68%            81.93%   \n",
      "Cabrera High School                   83.98         94.13%            97.04%   \n",
      "Figueroa High School                  81.16         65.99%            80.74%   \n",
      "Ford High School                      80.75         68.31%            79.30%   \n",
      "Griffin High School                   83.82         93.39%            97.14%   \n",
      "Hernandez High School                 80.93         66.75%            80.86%   \n",
      "Holden High School                    83.81         92.51%            96.25%   \n",
      "Huang High School                     81.18         65.68%            81.32%   \n",
      "Johnson High School                   80.97         66.06%            81.22%   \n",
      "Pena High School                      84.04         94.59%            95.95%   \n",
      "Rodriguez High School                 80.74         66.37%            80.22%   \n",
      "Shelton High School                   83.73         93.87%            95.85%   \n",
      "Thomas High School                    83.85         93.27%            97.31%   \n",
      "Wilson High School                    83.99         93.87%            96.54%   \n",
      "Wright High School                    83.95         93.33%            96.61%   \n",
      "\n",
      "                      % Overall Passing         School Size  \n",
      "school_name                                                  \n",
      "Bailey High School               54.64%   Large (2000-5000)  \n",
      "Cabrera High School              91.33%  Medium (1000-2000)  \n",
      "Figueroa High School             53.20%   Large (2000-5000)  \n",
      "Ford High School                 54.29%   Large (2000-5000)  \n",
      "Griffin High School              90.60%  Medium (1000-2000)  \n",
      "Hernandez High School            53.53%   Large (2000-5000)  \n",
      "Holden High School               89.23%       Small (<1000)  \n",
      "Huang High School                53.51%   Large (2000-5000)  \n",
      "Johnson High School              53.54%   Large (2000-5000)  \n",
      "Pena High School                 90.54%       Small (<1000)  \n",
      "Rodriguez High School            52.99%   Large (2000-5000)  \n",
      "Shelton High School              89.89%  Medium (1000-2000)  \n",
      "Thomas High School               90.95%  Medium (1000-2000)  \n",
      "Wilson High School               90.58%   Large (2000-5000)  \n",
      "Wright High School               90.33%  Medium (1000-2000)  \n"
     ]
    }
   ],
   "source": [
    "# Use `pd.cut` on the per_school_counts Series from earlier to categorize school size based on the bins.\n",
    "school_size_df[\"School Size\"] = pd.cut(\n",
    "    per_school_counts, \n",
    "    bins=size_bins,\n",
    "    labels=labels,\n",
    ")\n",
    "# Convert School Size to a string\n",
    "school_size_df[\"School Size\"] = school_size_df[\"School Size\"].astype(str)\n",
    "print (school_size_df)\n"
   ]
  },
  {
   "cell_type": "markdown",
   "metadata": {},
   "source": [
    "## Scores by School Type"
   ]
  },
  {
   "cell_type": "code",
   "execution_count": null,
   "metadata": {},
   "outputs": [],
   "source": []
  }
 ],
 "metadata": {
  "anaconda-cloud": {},
  "kernel_info": {
   "name": "python3"
  },
  "kernelspec": {
   "display_name": "base",
   "language": "python",
   "name": "python3"
  },
  "language_info": {
   "codemirror_mode": {
    "name": "ipython",
    "version": 3
   },
   "file_extension": ".py",
   "mimetype": "text/x-python",
   "name": "python",
   "nbconvert_exporter": "python",
   "pygments_lexer": "ipython3",
   "version": "3.12.7"
  },
  "latex_envs": {
   "LaTeX_envs_menu_present": true,
   "autoclose": false,
   "autocomplete": true,
   "bibliofile": "biblio.bib",
   "cite_by": "apalike",
   "current_citInitial": 1,
   "eqLabelWithNumbers": true,
   "eqNumInitial": 1,
   "hotkeys": {
    "equation": "Ctrl-E",
    "itemize": "Ctrl-I"
   },
   "labels_anchors": false,
   "latex_user_defs": false,
   "report_style_numbering": false,
   "user_envs_cfg": false
  },
  "nteract": {
   "version": "0.8.4"
  }
 },
 "nbformat": 4,
 "nbformat_minor": 4
}
